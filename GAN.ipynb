{
  "nbformat": 4,
  "nbformat_minor": 0,
  "metadata": {
    "colab": {
      "provenance": []
    },
    "kernelspec": {
      "name": "python3",
      "display_name": "Python 3"
    },
    "language_info": {
      "name": "python"
    }
  },
  "cells": [
    {
      "cell_type": "markdown",
      "source": [
        "## Import Libraies"
      ],
      "metadata": {
        "id": "g3U-46voaIUP"
      }
    },
    {
      "cell_type": "code",
      "execution_count": 11,
      "metadata": {
        "id": "RPSKDLC6WGSo"
      },
      "outputs": [],
      "source": [
        "import os\n",
        "\n",
        "import torch\n",
        "import torch.nn as nn\n",
        "from torch.utils.data import DataLoader, Subset\n",
        "import torchvision\n",
        "from torchvision import transforms\n",
        "\n",
        "from typing import Callable, Optional\n",
        "from torchvision.datasets.utils import download_and_extract_archive"
      ]
    },
    {
      "cell_type": "markdown",
      "source": [
        "## Load DataSets"
      ],
      "metadata": {
        "id": "698qjpJ-aN2p"
      }
    },
    {
      "cell_type": "code",
      "source": [
        "class FoodImageDataset(torchvision.datasets.ImageFolder):\n",
        "    download_url = \"https://drive.usercontent.google.com/download?id=1SlCFLq3GtDQ-LXKWNGxrvNsCkALIREgl&confirm=t&uuid=77e34988-8be5-4489-9807-6c286402cd06\"\n",
        "\n",
        "    def __init__(self, root: str, desired_class: Optional[str] = None, force_download: bool = True, transform: Optional[Callable] = None, target_transform: Optional[Callable] = None):\n",
        "        self.download(root, force=force_download)\n",
        "\n",
        "        super().__init__(root=root, transform=transform, target_transform=target_transform)\n",
        "\n",
        "        if desired_class is not None:\n",
        "            self.samples = [s for s in self.samples if self.classes[s[1]] in desired_class]\n",
        "            self.targets = [s[1] for s in self.samples]\n",
        "            print(f\"INFO: Filtered dataset to include classes: {desired_class}\")\n",
        "\n",
        "    @classmethod\n",
        "    def download(cls, root: str, force: bool = False):\n",
        "        if force or not os.path.isfile(os.path.join(root, \"datasets.zip\")):\n",
        "            download_and_extract_archive(cls.download_url, download_root=root, extract_root=root, filename=\"datasets.zip\")\n",
        "            print(\"INFO: Dataset archive downloaded and extracted.\")\n",
        "        else:\n",
        "            print(\"INFO: Dataset archive found in the root directory. Skipping download.\")"
      ],
      "metadata": {
        "id": "mYTPeHDOX8ic"
      },
      "execution_count": 18,
      "outputs": []
    },
    {
      "cell_type": "code",
      "source": [
        "IMG_SIZE = 64\n",
        "IMG_NORM = dict(\n",
        "    mean=[0.5, 0.5, 0.5], std=[0.5, 0.5, 0.5]\n",
        ")\n",
        "\n",
        "resizer = transforms.Compose([\n",
        "    transforms.Resize(IMG_SIZE),\n",
        "    transforms.CenterCrop(64),\n",
        "    transforms.ToTensor(),\n",
        "    transforms.Normalize(**IMG_NORM)\n",
        "])\n",
        "\n",
        "DATA_ROOT = \"./data\"\n",
        "target_class = 'Bread'\n",
        "dataset = FoodImageDataset(root=DATA_ROOT, desired_class=target_class, force_download=False, transform=resizer)"
      ],
      "metadata": {
        "colab": {
          "base_uri": "https://localhost:8080/"
        },
        "id": "X5dycnBzYwBb",
        "outputId": "443bf501-8882-40ec-d532-a49bd3696663"
      },
      "execution_count": 25,
      "outputs": [
        {
          "output_type": "stream",
          "name": "stdout",
          "text": [
            "INFO: Dataset archive found in the root directory. Skipping download.\n",
            "INFO: Filtered dataset to include classes: Bread\n"
          ]
        }
      ]
    },
    {
      "cell_type": "code",
      "source": [
        "dataset.size"
      ],
      "metadata": {
        "colab": {
          "base_uri": "https://localhost:8080/",
          "height": 149
        },
        "id": "TNHe4335Z4ED",
        "outputId": "94299354-7b50-4800-e91f-fa6745f24de5"
      },
      "execution_count": 28,
      "outputs": [
        {
          "output_type": "error",
          "ename": "AttributeError",
          "evalue": "'FoodImageDataset' object has no attribute 'size'",
          "traceback": [
            "\u001b[0;31m---------------------------------------------------------------------------\u001b[0m",
            "\u001b[0;31mAttributeError\u001b[0m                            Traceback (most recent call last)",
            "\u001b[0;32m<ipython-input-28-7c86b99a940e>\u001b[0m in \u001b[0;36m<cell line: 1>\u001b[0;34m()\u001b[0m\n\u001b[0;32m----> 1\u001b[0;31m \u001b[0mdataset\u001b[0m\u001b[0;34m.\u001b[0m\u001b[0msize\u001b[0m\u001b[0;34m\u001b[0m\u001b[0;34m\u001b[0m\u001b[0m\n\u001b[0m",
            "\u001b[0;31mAttributeError\u001b[0m: 'FoodImageDataset' object has no attribute 'size'"
          ]
        }
      ]
    },
    {
      "cell_type": "code",
      "source": [],
      "metadata": {
        "id": "cmLw0msIZ6c2"
      },
      "execution_count": null,
      "outputs": []
    }
  ]
}